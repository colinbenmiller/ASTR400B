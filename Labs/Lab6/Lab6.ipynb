{
 "cells": [
  {
   "cell_type": "code",
   "execution_count": 1,
   "metadata": {},
   "outputs": [],
   "source": [
    "# In Class Lab 6\n",
    "# Surface Brightness Profiles\n",
    "#Colin Miller"
   ]
  },
  {
   "cell_type": "code",
   "execution_count": 2,
   "metadata": {},
   "outputs": [],
   "source": [
    "# Load Modules\n",
    "import numpy as np\n",
    "import astropy.units as u\n",
    "\n",
    "# import plotting modules\n",
    "import matplotlib.pyplot as plt\n",
    "import matplotlib\n",
    "%matplotlib inline\n",
    "\n",
    "# my modules\n",
    "from ReadFile import Read\n",
    "from CenterOfMass import CenterOfMass\n",
    "from MassProfile import MassProfile\n",
    "from GalaxyMass import ComponentMass"
   ]
  },
  {
   "cell_type": "markdown",
   "metadata": {},
   "source": [
    "# Lab 6: Sersic Profiles\n",
    "\n",
    "In this lab we will use Homework 5 solutions to compute the mass profile of M31's bulge. \n",
    "\n",
    "We will turn the mass profile into a density profile and see if we can fit it reasonably well with a sersic profile. "
   ]
  },
  {
   "cell_type": "markdown",
   "metadata": {},
   "source": [
    "# Part A\n",
    "\n",
    "Determine the Surface Mass Density Profile for the Simulated M31 bulge\n",
    "\n",
    "a) find the positions and masses of all the bulge particles"
   ]
  },
  {
   "cell_type": "code",
   "execution_count": 4,
   "metadata": {},
   "outputs": [],
   "source": [
    "# Create a center of mass object for M31\n",
    "# I.e. an instance of the CenterOfMass class \n",
    "M31_COM = CenterOfMass(\"M31_000.TXT\", 3)\n",
    "M31_COM_p = M31_COM.COM_P(0.1) "
   ]
  },
  {
   "cell_type": "code",
   "execution_count": 5,
   "metadata": {},
   "outputs": [],
   "source": [
    "# Use the center of mass object to \n",
    "# store the x, y, z, positions and mass of the bulge particles\n",
    "# be sure to correct for the COM position of M31\n",
    "x = M31_COM.x - M31_COM_p[0].value\n",
    "y = M31_COM.y - M31_COM_p[1].value\n",
    "z = M31_COM.z - M31_COM_p[2].value\n",
    "m = M31_COM.m"
   ]
  },
  {
   "cell_type": "markdown",
   "metadata": {},
   "source": [
    "b) Change the bulge particle positions into cylindrical coordinates"
   ]
  },
  {
   "cell_type": "code",
   "execution_count": 8,
   "metadata": {},
   "outputs": [],
   "source": [
    "# Determine the positions of the bulge particles in \n",
    "# cylindrical coordinates. \n",
    "cyl_r = np.sqrt(x**2 + y**2) #radial\n",
    "cyl_theta = np.arctan2(y,x) #theta"
   ]
  },
  {
   "cell_type": "markdown",
   "metadata": {},
   "source": [
    "c) determine the projected surface mass density profile"
   ]
  },
  {
   "cell_type": "code",
   "execution_count": 9,
   "metadata": {},
   "outputs": [],
   "source": [
    "def SurfaceDensity(r,m):\n",
    "    \"\"\" Function that computes the surface mass density profile\n",
    "    given an array of particle masses and radii \n",
    "     \n",
    "    PARMETERS\n",
    "    ---------\n",
    "        r : array of `floats` - cyclindrical radius [kpc]\n",
    "        m : array of `floats` - particle masses [1e10 Msun] \n",
    "    \n",
    "    RETURNS\n",
    "    -------\n",
    "        r_annuli : array of `floats` -  radial bins for the \n",
    "            annuli that correspond to the surface mass density profile\n",
    "    \n",
    "        sigma: array of `floats` - surface mass density profile \n",
    "         [1e10 Msun/kpc^2] \n",
    "        \n",
    "        \n",
    "    \"\"\"\n",
    "    \n",
    "    # Create an array of radii that captures the extent of the bulge\n",
    "    # 95% of max range of bulge\n",
    "    radii = np.arange(0.1, 0.95 * r.max(), 0.1)\n",
    "\n",
    "    # create a mask to select particles within each radius\n",
    "    # np.newaxis creates a virtual axis to make cyl_r_mag 2 dimensional\n",
    "    # so that all radii can be compared simultaneously\n",
    "    # a way of avoiding a loop - returns a boolean \n",
    "    enc_mask = r[:, np.newaxis] < radii\n",
    "\n",
    "    # calculate mass of bulge particles within each annulus.  \n",
    "    # relevant particles will be selected by enc_mask (i.e., *1)\n",
    "    # outer particles will be ignored (i.e., *0)\n",
    "    # axis =0 flattens to 1D\n",
    "    m_enc = np.sum(m[:, np.newaxis] * enc_mask, axis=0)\n",
    "\n",
    "    # use the difference between m_enc at adjacent radii \n",
    "    # to get mass in each annulus\n",
    "    m_annuli = np.diff(m_enc) # one element less then m_enc\n",
    "    \n",
    "    \n",
    "    # Surface mass density of stars in the annulus\n",
    "    # mass in annulus / surface area of the annulus. \n",
    "    # This is in units of 1e10\n",
    "    sigma = m_annuli / (np.pi * (radii[1:]**2 - radii[:-1]**2))\n",
    "    # array starts at 0, but here starting at 1 and\n",
    "    # subtracting radius that ends one index earlier.\n",
    "    \n",
    "    # Define the range of annuli\n",
    "    # here we choose the geometric mean between adjacent radii\n",
    "    r_annuli = np.sqrt(radii[1:] * radii[:-1]) \n",
    "\n",
    "    return r_annuli, sigma\n"
   ]
  },
  {
   "cell_type": "code",
   "execution_count": 13,
   "metadata": {},
   "outputs": [],
   "source": [
    "# Define the surface mass density profile for the simulated bulge\n",
    "# and the corresponding annuli\n",
    "r_annuli, sigmaM31bulge = SurfaceDensity(cyl_r, m)\n"
   ]
  },
  {
   "cell_type": "markdown",
   "metadata": {},
   "source": [
    "# Part B \n",
    "\n"
   ]
  },
  {
   "cell_type": "markdown",
   "metadata": {},
   "source": [
    "a) Create a function called `sersicE` that returns the Sersic Profile in terms of the effective radius $R_e$ (i.e. the half light radius).\n",
    "\n",
    "$I(r) = I_e exp^{-7.67 ( (r/R_e)^{1/n} - 1)}$\n",
    "\n",
    "Where \n",
    "\n",
    "$ L = 7.2 I_e \\pi R_e^2$\n",
    "\n",
    "and  $R_e$ is the half light radius.  We will assume a mass to light ratio for the stellar bulge of 1, so this is also the half mass radius.\n",
    "\n",
    "The function should take as input the radius, $R_e$, $n$ and the total stellar mass of the system.\n"
   ]
  },
  {
   "cell_type": "code",
   "execution_count": 14,
   "metadata": {},
   "outputs": [],
   "source": [
    "def sersicE(r, re, n, mtot):\n",
    "    \"\"\" Function that computes the Sersic Profile for an Elliptical \n",
    "    System, assuming M/L ~ 1. As such, this function is also the \n",
    "    mass surface density profile. \n",
    "    \n",
    "    PARMETERS\n",
    "    ---------\n",
    "        r: `float`\n",
    "            Distance from the center of the galaxy (kpc)\n",
    "        re: `float`\n",
    "            The Effective radius (2D radius that contains \n",
    "            half the light) (kpc)\n",
    "        n:  `float`\n",
    "            sersic index\n",
    "        mtot: `float`\n",
    "            the total stellar mass (Msun)\n",
    "\n",
    "    RETURNS\n",
    "    -------\n",
    "        I: `array of floats`\n",
    "            the surface brightness/mass density\n",
    "            profile for an elliptical in Lsun/kpc^2\n",
    "\n",
    "    \"\"\"\n",
    "    lum = mtot #M/L = 1\n",
    "    Ie = lum/7.2/np.pi/re**2 #effective surface brightness\n",
    "    a = (r/re)**(1/n)\n",
    "    b = -7.67*(a - 1)\n",
    "    \n",
    "    I= Ie*np.exp(b)\n",
    "    \n",
    "    return I\n",
    "    \n",
    "    "
   ]
  },
  {
   "cell_type": "markdown",
   "metadata": {},
   "source": [
    "b) Compute the M31 Bulge Mass Profile using Homework 5 MassProfile\n"
   ]
  },
  {
   "cell_type": "code",
   "execution_count": 15,
   "metadata": {},
   "outputs": [],
   "source": [
    "# Create a mass profile object for M31\n",
    "# using solution to Homework 5\n",
    "M31mass = MassProfile(\"M31\", 0)"
   ]
  },
  {
   "cell_type": "code",
   "execution_count": 21,
   "metadata": {},
   "outputs": [],
   "source": [
    "# Determine the Bulge mass profile\n",
    "# use the annuli defined for the surface mass density profile\n",
    "bulge_mass = M31mass.massEnclosed(3, r_annuli).value"
   ]
  },
  {
   "cell_type": "markdown",
   "metadata": {},
   "source": [
    "c) Determine the effective radius of the bulge. Compute the total mass using Component Mass, from the GalaxyMass code, and find the radius that contains half this mass. "
   ]
  },
  {
   "cell_type": "code",
   "execution_count": 22,
   "metadata": {},
   "outputs": [
    {
     "name": "stdout",
     "output_type": "stream",
     "text": [
      "1.90e+10\n"
     ]
    }
   ],
   "source": [
    "# Determine the total mass of the bulge\n",
    "bulge_total = ComponentMass(\"M31_000.txt\", 3)*1e12\n",
    "print(f\"{bulge_total:.2e}\")"
   ]
  },
  {
   "cell_type": "code",
   "execution_count": 23,
   "metadata": {},
   "outputs": [],
   "source": [
    "# Find the effective radius of the bulge, \n",
    "# Re encloses half of the total bulge mass\n",
    "\n",
    "# Half the total bulge mass\n",
    "b_half = bulge_total/2.0"
   ]
  },
  {
   "cell_type": "code",
   "execution_count": 24,
   "metadata": {},
   "outputs": [
    {
     "name": "stdout",
     "output_type": "stream",
     "text": [
      "9.53e+09\n"
     ]
    }
   ],
   "source": [
    "# Define the Effective radius of the bulge\n",
    "index = np.where(bulge_mass > b_half)\n",
    "\n",
    "print(f\"{bulge_mass[index][0]:.2e}\")"
   ]
  },
  {
   "cell_type": "code",
   "execution_count": 26,
   "metadata": {},
   "outputs": [
    {
     "name": "stdout",
     "output_type": "stream",
     "text": [
      "1.9121323175972944\n"
     ]
    }
   ],
   "source": [
    "re_bulge = r_annuli[index][0]*3/4\n",
    "print(re_bulge)"
   ]
  },
  {
   "cell_type": "markdown",
   "metadata": {},
   "source": [
    "d) Define the Sersic Profile for the M31 Bulge"
   ]
  },
  {
   "cell_type": "code",
   "execution_count": 31,
   "metadata": {},
   "outputs": [],
   "source": [
    "# Sersic Index = 4\n",
    "SersicM31Bulge = sersicE(r_annuli, re_bulge, 4, bulge_total)"
   ]
  },
  {
   "cell_type": "markdown",
   "metadata": {},
   "source": [
    "# Part D\n",
    "\n",
    "a) Plot the simulated surface mass density profile of M31's bulge as a proxy for its surface brightness profile (M/L = 1) \n",
    "\n",
    "b) Plot the M31 Bulge Sersic Profile\n"
   ]
  },
  {
   "cell_type": "code",
   "execution_count": 33,
   "metadata": {},
   "outputs": [],
   "source": [
    "fig, ax = plt.subplots(figsize=(9, 8))\n",
    "\n",
    "#adjust tick label font size\n",
    "label_size = 22\n",
    "matplotlib.rcParams['xtick.labelsize'] = label_size \n",
    "matplotlib.rcParams['ytick.labelsize'] = label_size\n",
    "\n",
    "\n",
    "# Surface Density Profile\n",
    "ax.loglog(r_annuli, sigmaM31bulge, lw = 2, label = \"Sim Bulge\")\n",
    "\n",
    "# Sersic fit to the surface brightness Sersic fit\n",
    "ax.loglog(r_annuli, SersicM31Bulge/1e10, linestyle = '-.', label = 'Sersic n=4')\n",
    "\n",
    "\n",
    "plt.xlabel('log r [ kpc]', fontsize=22)\n",
    "\n",
    "# note the y axis units\n",
    "plt.ylabel(r'log $\\Sigma_{bulge}$ [$10^{10} M_\\odot$ / kpc$^2$]', \n",
    "          fontsize=22)\n",
    "\n",
    "plt.title('M31 Bulge', fontsize=22)\n",
    "\n",
    "#set axis limits\n",
    "plt.xlim(1,50)\n",
    "plt.ylim(1e-5,0.1)\n",
    "\n",
    "ax.legend(loc='best', fontsize=22)\n",
    "fig.tight_layout()\n",
    "\n",
    "plt.savefig('Lab6.png')"
   ]
  },
  {
   "cell_type": "code",
   "execution_count": null,
   "metadata": {},
   "outputs": [],
   "source": []
  }
 ],
 "metadata": {
  "kernelspec": {
   "display_name": "Python 3 (ipykernel)",
   "language": "python",
   "name": "python3"
  },
  "language_info": {
   "codemirror_mode": {
    "name": "ipython",
    "version": 3
   },
   "file_extension": ".py",
   "mimetype": "text/x-python",
   "name": "python",
   "nbconvert_exporter": "python",
   "pygments_lexer": "ipython3",
   "version": "3.12.7"
  }
 },
 "nbformat": 4,
 "nbformat_minor": 4
}
