{
 "cells": [
  {
   "cell_type": "code",
   "execution_count": 11,
   "id": "b160e013-a444-4979-969b-3f98bfdc9790",
   "metadata": {},
   "outputs": [],
   "source": [
    "from ReadFile import Read #imports read file, numpy, and astropy units\n",
    "import numpy as np\n",
    "import astropy.units as u"
   ]
  },
  {
   "cell_type": "code",
   "execution_count": 10,
   "id": "878d36f1-9816-4e97-9796-5c1ee960a6c3",
   "metadata": {
    "scrolled": true
   },
   "outputs": [],
   "source": [
    "def ParticleInfo(filename, particletype, particlenumber):\n",
    "    \"\"\" \n",
    "    this function adds reads in the filename, particle type, and particle number and intitialzes the variables to be used to then find the specific data\n",
    "    in the file and calculates 3D velocity in km/s, 3D distance from galactic center in kpc, and mass and in terms of mass of the sun\n",
    "    \"\"\"\n",
    "    time, particles, data = Read(filename) #separates file data into arrays to store data to specific variables \n",
    "    index=np.where(data['type'])==particletype #creates an index to find specific line of data and renames it to input parameter\n",
    "    typenew = data[index] #renames data array with specific line in the file and stores it\n",
    "    particlerow = typenew[particlenumber -1] #renames value from previous to line up with input paramter and subtracts 1 due to first line being 0\n",
    "    x=particlerow['x'] #intializes x distance coord position in kpc from said specific column based on particle row\n",
    "    y=particlerow['y'] #intializes y distance coord position in kpc from said specific column based on particle row\n",
    "    z=particlerow['z'] #intializes z distance coord position in kpc from said specific column based on particle row\n",
    "    d=np.sqrt(x**2 + y**2 + z**2) #creates new function to find the magnitude of the 3D position data based on inputs\n",
    "    d=np.round(d,3) #rounds value to 3 decimal points\n",
    "    d=d*u.kpc #turns data in kpc to read out when running code\n",
    "    vx=particlerow['vx'] #intializes x velocity coord position in km/s from said specific column based on particle row\n",
    "    vy=particlerow['vy'] #intializes y velocity coord position in km/s from said specific column based on particle row\n",
    "    vz=particlerow['vz'] #intializes z velocity coord position in km/s from said specific column based on particle row\n",
    "    v=np.sqrt(vx**2 + vy**2 + vz**2) #adds up 3D velocity magnitude based on inputs of particle row data\n",
    "    v=np.round(v,3) #rounds value to 3 decimal points\n",
    "    v = v*(u.km/u.s) #turns data in km/s to read out when running code\n",
    "    mass = particlerow['m'] #intializes value of mass to data from mass column based on particlerow input\n",
    "    mass = mass * (10**10)*u.Msun #converts mass given from input in terms of mass of the sun\n",
    "    return d, v, mass #returns calculated values"
   ]
  },
  {
   "cell_type": "code",
   "execution_count": null,
   "id": "7a8e5033-e214-4b82-9040-ad7e01b68b0e",
   "metadata": {},
   "outputs": [],
   "source": []
  }
 ],
 "metadata": {
  "kernelspec": {
   "display_name": "Python 3 (ipykernel)",
   "language": "python",
   "name": "python3"
  },
  "language_info": {
   "codemirror_mode": {
    "name": "ipython",
    "version": 3
   },
   "file_extension": ".py",
   "mimetype": "text/x-python",
   "name": "python",
   "nbconvert_exporter": "python",
   "pygments_lexer": "ipython3",
   "version": "3.12.7"
  }
 },
 "nbformat": 4,
 "nbformat_minor": 5
}
