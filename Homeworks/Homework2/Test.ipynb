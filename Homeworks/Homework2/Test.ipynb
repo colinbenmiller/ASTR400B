{
 "cells": [
  {
   "cell_type": "code",
   "execution_count": 14,
   "id": "c32f0305-c891-4084-b4b1-50757314282f",
   "metadata": {},
   "outputs": [],
   "source": [
    "filename = './MW_000.txt' #initalizes the file"
   ]
  },
  {
   "cell_type": "code",
   "execution_count": 15,
   "id": "a2b81e65-84fc-491e-92c2-fd2678510127",
   "metadata": {},
   "outputs": [],
   "source": [
    "from ReadFile import Read #imports files\n",
    "from ParticleProperties import ParticleInfo\n",
    "import astropy.units as u"
   ]
  },
  {
   "cell_type": "code",
   "execution_count": 16,
   "id": "280cd6bf-bb13-4724-a56f-9054806bf11a",
   "metadata": {},
   "outputs": [],
   "source": [
    "#1 is dark matter, 2 is disk, 3 is bulge"
   ]
  },
  {
   "cell_type": "code",
   "execution_count": 17,
   "id": "cae24e7b-d6f0-4c97-8494-2f127d986c1b",
   "metadata": {},
   "outputs": [
    {
     "data": {
      "text/plain": [
       "(<Quantity 4.245 kpc>, <Quantity 312.135 km / s>, <Quantity 1000000. solMass>)"
      ]
     },
     "execution_count": 17,
     "metadata": {},
     "output_type": "execute_result"
    }
   ],
   "source": [
    "ParticleInfo(filename, 2, 100) #prints out specific data"
   ]
  },
  {
   "cell_type": "code",
   "execution_count": 18,
   "id": "0f3f0e93-d458-4731-879c-1c41a089ec1c",
   "metadata": {},
   "outputs": [],
   "source": [
    "threeDdistance, threeDvelocity, mass = ParticleInfo(filename, 2, 100) #separates out the variables with new names"
   ]
  },
  {
   "cell_type": "code",
   "execution_count": 19,
   "id": "f2c330aa-26e1-476c-aafa-383044bcb3a0",
   "metadata": {},
   "outputs": [
    {
     "data": {
      "text/latex": [
       "$13845.338 \\; \\mathrm{lyr}$"
      ],
      "text/plain": [
       "<Quantity 13845.33823408 lyr>"
      ]
     },
     "execution_count": 19,
     "metadata": {},
     "output_type": "execute_result"
    }
   ],
   "source": [
    "threeDdistance.to(u.lightyear) #converts to lightyears"
   ]
  },
  {
   "cell_type": "code",
   "execution_count": null,
   "id": "11b32a70-97ee-4dab-9ad6-5cdd02b0b118",
   "metadata": {},
   "outputs": [],
   "source": []
  }
 ],
 "metadata": {
  "kernelspec": {
   "display_name": "Python 3 (ipykernel)",
   "language": "python",
   "name": "python3"
  },
  "language_info": {
   "codemirror_mode": {
    "name": "ipython",
    "version": 3
   },
   "file_extension": ".py",
   "mimetype": "text/x-python",
   "name": "python",
   "nbconvert_exporter": "python",
   "pygments_lexer": "ipython3",
   "version": "3.12.7"
  }
 },
 "nbformat": 4,
 "nbformat_minor": 5
}
