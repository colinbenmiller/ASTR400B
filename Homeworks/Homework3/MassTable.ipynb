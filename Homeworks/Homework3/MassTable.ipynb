{
 "cells": [
  {
   "cell_type": "code",
   "execution_count": 50,
   "id": "77c19734-1550-46d3-ad4d-eb2d06f038b9",
   "metadata": {},
   "outputs": [],
   "source": [
    "import numpy as np\n",
    "import astropy.units as u\n",
    "from GalaxyMass import ComponentMass\n",
    "from ReadFile import Read \n",
    "from tabulate import tabulate\n",
    "import pandas as pd\n",
    "import matplotlib.pyplot as plt\n",
    "#imports read file, component mass function, numpy, and astropy units"
   ]
  },
  {
   "cell_type": "code",
   "execution_count": 51,
   "id": "9ac7117d-72e5-4136-a0bb-fa6c78304133",
   "metadata": {},
   "outputs": [],
   "source": [
    "#initialize files\n",
    "f1 = \"MW_000.txt\" \n",
    "f2 = \"M31_000.txt\"\n",
    "f3 = \"M33_000.txt\""
   ]
  },
  {
   "cell_type": "code",
   "execution_count": 52,
   "id": "bd01d1d6-01c8-46b8-9bcc-85af49dd27dc",
   "metadata": {},
   "outputs": [],
   "source": [
    "#call the functions and \n",
    "MWHalo = ComponentMass(f1, 1.0)\n",
    "MWDisk = ComponentMass(f1, 2.0)\n",
    "MWBulge = ComponentMass(f1, 3.0)\n",
    "M31Halo = ComponentMass(f2, 1.0)\n",
    "M31Disk = ComponentMass(f2, 2.0)\n",
    "M31Bulge = ComponentMass(f2, 3.0)\n",
    "M33Halo = ComponentMass(f3, 1.0)\n",
    "M33Disk = ComponentMass(f3, 2.0)"
   ]
  },
  {
   "cell_type": "code",
   "execution_count": 75,
   "id": "5aed6424-71d4-4935-b94a-d55d8f3bac41",
   "metadata": {
    "scrolled": true
   },
   "outputs": [
    {
     "data": {
      "image/png": "[encoded data removed]",
      "text/plain": [
       "<Figure size 640x480 with 1 Axes>"
      ]
     },
     "metadata": {},
     "output_type": "display_data"
    }
   ],
   "source": [
    "#create data set\n",
    "data = {\n",
    "        'Galaxy Name': ['MW', 'M31', 'M33', 'Local Group'], \n",
    "        'Halo Mass 10^12*Msun': [MWHalo, M31Halo, M33Halo, np.sum([MWHalo, M31Halo, M33Halo])], \n",
    "        'Disk Mass 10^12*Msun' : [MWDisk, M31Disk, M33Disk, np.round(np.sum([MWDisk, M31Disk, M33Disk]), 3)],\n",
    "        'Bulge Mass 10^12*Msun': [MWBulge, M31Bulge, 'N/A', np.round(np.sum([MWBulge, M31Bulge]), 3)],\n",
    "        'Total 10^12*Msun': [np.sum([MWHalo, MWDisk, MWBulge]), np.sum([M31Halo, M31Disk, M31Bulge]), np.sum([M33Halo, M33Disk]), \n",
    "                             np.sum([np.sum([MWHalo, MWDisk, MWBulge]), np.sum([M31Halo, M31Disk, M31Bulge]), np.sum([M33Halo, M33Disk])])],\n",
    "        'fbar': [np.round(np.sum([MWDisk, MWBulge])/np.sum([MWHalo, MWDisk, MWBulge]), 3), \n",
    "                 np.round(np.sum([M31Disk, M31Bulge])/np.sum([M31Halo, M31Disk, M31Bulge]), 3),\n",
    "                 np.round(M33Disk/np.sum([M33Halo, M33Disk]), 3),\n",
    "                 np.round((.204+.029)/4.316, 3)]\n",
    "    }\n",
    "df = pd.DataFrame(data) #create data frame\n",
    "fig, ax = plt.subplots() #initialize a figure and axis\n",
    "ax.axis('off') #hides axis\n",
    "table = ax.table(cellText=df.values, colLabels=df.columns, loc='center') #create a figure\n",
    "plt.savefig(\"table.pdf\") #save figure\n",
    "\n",
    "    "
   ]
  },
  {
   "cell_type": "code",
   "execution_count": null,
   "id": "5cf473b4-d49c-4665-b43b-fe75cde3fede",
   "metadata": {},
   "outputs": [],
   "source": []
  }
 ],
 "metadata": {
  "kernelspec": {
   "display_name": "Python 3 (ipykernel)",
   "language": "python",
   "name": "python3"
  },
  "language_info": {
   "codemirror_mode": {
    "name": "ipython",
    "version": 3
   },
   "file_extension": ".py",
   "mimetype": "text/x-python",
   "name": "python",
   "nbconvert_exporter": "python",
   "pygments_lexer": "ipython3",
   "version": "3.12.7"
  }
 },
 "nbformat": 4,
 "nbformat_minor": 5
}
