{
 "cells": [
  {
   "cell_type": "code",
   "execution_count": 4,
   "id": "71132962-6fdf-4778-b9f0-335f456d4205",
   "metadata": {},
   "outputs": [],
   "source": [
    "from ReadFile import Read #imports read file, numpy, and astropy units\n",
    "import numpy as np\n",
    "import astropy.units as u"
   ]
  },
  {
   "cell_type": "code",
   "execution_count": 7,
   "id": "66521402-2e7d-48de-a036-5c4f55b51bd6",
   "metadata": {},
   "outputs": [],
   "source": [
    "def ComponentMass(filename, particletype):\n",
    "    \"\"\" \n",
    "    this function adds reads in the filename and particle type and intitialzes the variables to be used to then find the specific data\n",
    "    in the file and calculates the component section of galaxy's mass and in terms of mass of the sun\n",
    "    \"\"\"\n",
    "    time, particles, data = Read(filename) #separates file data into arrays to store data to specific variables \n",
    "    index=np.where(data['type']==particletype) #creates an index to find specific line of data and renames it to input parameter    \n",
    "    masses = data['m'][index] #intializes value of mass to data from mass column based on particlerow input\n",
    "    massT = 0 #initializes to zero\n",
    "    massT = np.sum(masses) #sum array for particular particle type\n",
    "    massT = massT* (10**(-2))*u.Msun #makes in unit of solar masses\n",
    "    massT = np.round(massT, 3) #rounds mass total to 3 decimals\n",
    "    return massT #returns calculated values\n",
    "    "
   ]
  },
  {
   "cell_type": "code",
   "execution_count": null,
   "id": "a6153559-7f96-4389-85a9-537ea5de5a80",
   "metadata": {},
   "outputs": [],
   "source": []
  }
 ],
 "metadata": {
  "kernelspec": {
   "display_name": "Python 3 (ipykernel)",
   "language": "python",
   "name": "python3"
  },
  "language_info": {
   "codemirror_mode": {
    "name": "ipython",
    "version": 3
   },
   "file_extension": ".py",
   "mimetype": "text/x-python",
   "name": "python",
   "nbconvert_exporter": "python",
   "pygments_lexer": "ipython3",
   "version": "3.12.7"
  }
 },
 "nbformat": 4,
 "nbformat_minor": 5
}
