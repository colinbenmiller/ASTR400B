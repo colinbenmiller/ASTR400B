{
 "cells": [
  {
   "cell_type": "code",
   "execution_count": 1,
   "id": "71e92390-9028-455f-a9b5-677e78cd27fb",
   "metadata": {},
   "outputs": [],
   "source": [
    "import numpy as np\n",
    "import astropy.units as u"
   ]
  },
  {
   "cell_type": "code",
   "execution_count": 2,
   "id": "bd7ded8c-dcc7-4d4a-96b0-71d503c3fd30",
   "metadata": {},
   "outputs": [],
   "source": [
    "def Read(filename): \n",
    "    \"\"\"\n",
    "    this function reads in the filename\n",
    "    input is the filename\n",
    "    output is the time of the dataset, the set of particles, and data associated with it\n",
    "    \"\"\"\n",
    "    file = open(filename, 'r' ) #open file\n",
    "    line1 = file.readline() #read first line of file\n",
    "    label, value = line1.split() #splits the lines of up to retrieve\n",
    "    time = float(value)*u.Myr #intializes the time variable\n",
    "    line2 = file.readline() #reads the second line\n",
    "    label, value = line2.split() #splits the lines up\n",
    "    particles = int(value) #intializes the particle variable output\n",
    "    file.close() #closes the file\n",
    "    data = np.genfromtxt(filename,dtype=None,names=True,skip_header=3) #keeps the column header amd starts on line 4 for the data and generates data\n",
    "    return time, particles, data #returns outputs"
   ]
  },
  {
   "cell_type": "code",
   "execution_count": 3,
   "id": "84a393f6-f492-449e-b7aa-f44e453c1705",
   "metadata": {},
   "outputs": [],
   "source": []
  },
  {
   "cell_type": "code",
   "execution_count": 4,
   "id": "9a7fdddc-95e2-4e92-bc54-3b256aa01799",
   "metadata": {},
   "outputs": [
    {
     "data": {
      "text/plain": [
       "(<Quantity 0. Myr>,\n",
       " 135000,\n",
       " array([(1., 0.00394985, -2.51725e+00,  19.1588 ,  5.28528e+01,  1.34962e-01, 116.109   ,  -85.3822 ),\n",
       "        (1., 0.00394985, -2.86601e+02, 298.455  ,  3.91692e+02,  5.02658e+01, -46.4521  ,   15.1825 ),\n",
       "        (1., 0.00394985, -5.05945e-01, -28.6337 , -8.39565e+01,  1.13833e+01,  -0.974253,  -39.3509 ),\n",
       "        ...,\n",
       "        (3., 0.00010005, -3.29432e+00,   3.36725,  1.09023e-01,  2.18821e+02,  73.4462  ,   -8.81108),\n",
       "        (3., 0.00010005,  2.57806e-01,   5.31409, -6.62670e-01,  5.46121e+01, -19.0044  , -190.184  ),\n",
       "        (3., 0.00010005, -6.57662e-01,   3.32552, -2.51660e+00, -1.37672e+01,  44.8175  ,   16.7124 )],\n",
       "       dtype=[('type', '<f8'), ('m', '<f8'), ('x', '<f8'), ('y', '<f8'), ('z', '<f8'), ('vx', '<f8'), ('vy', '<f8'), ('vz', '<f8')]))"
      ]
     },
     "execution_count": 4,
     "metadata": {},
     "output_type": "execute_result"
    }
   ],
   "source": []
  },
  {
   "cell_type": "code",
   "execution_count": 12,
   "id": "4061637e-c33c-4da5-a9db-acfa49b3d03c",
   "metadata": {},
   "outputs": [
    {
     "name": "stdout",
     "output_type": "stream",
     "text": [
      "1.0\n"
     ]
    }
   ],
   "source": []
  },
  {
   "cell_type": "code",
   "execution_count": null,
   "id": "da74a5d7-e455-4900-8d7e-53c0a9e46d59",
   "metadata": {},
   "outputs": [],
   "source": []
  }
 ],
 "metadata": {
  "kernelspec": {
   "display_name": "Python 3 (ipykernel)",
   "language": "python",
   "name": "python3"
  },
  "language_info": {
   "codemirror_mode": {
    "name": "ipython",
    "version": 3
   },
   "file_extension": ".py",
   "mimetype": "text/x-python",
   "name": "python",
   "nbconvert_exporter": "python",
   "pygments_lexer": "ipython3",
   "version": "3.12.7"
  }
 },
 "nbformat": 4,
 "nbformat_minor": 5
}
